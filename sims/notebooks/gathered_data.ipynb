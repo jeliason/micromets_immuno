{
 "cells": [
  {
   "cell_type": "code",
   "execution_count": 4,
   "metadata": {},
   "outputs": [],
   "source": [
    "import numpy as np\n",
    "from scipy.stats import qmc\n"
   ]
  },
  {
   "cell_type": "code",
   "execution_count": 8,
   "metadata": {},
   "outputs": [],
   "source": [
    "params_dict = {\n",
    "\t\t'macrophage_max_recruitment_rate': [0,8e-9],\n",
    "\t\t'macrophage_recruitment_min_signal': [0,0.2],\n",
    "\t\t'macrophage_recruitment_saturation_signal': [0,0.6],\n",
    "\t\t'DC_max_recruitment_rate': [0,4e-9],\n",
    "\t\t'DC_recruitment_min_signal': [0,0.2],\n",
    "\t\t'DC_recruitment_saturation_signal': [0,0.6],\n",
    "\t\t'DC_leave_rate': [0,0.4],\n",
    "\t\t'Th1_decay': [0,2.8e-6],\n",
    "\t\t'T_Cell_Recruitment': [0,2.2e-4],\n",
    "\t\t'DM_decay': [0,7e-4]\n",
    "}\n",
    "\n",
    "def is_power_of_two(n):\n",
    "    if n <= 0:\n",
    "        return False\n",
    "    return (n & (n - 1)) == 0\n",
    "\n",
    "def generate_theta(n_samples,seed_start):\n",
    "\t\tif not is_power_of_two(n_samples):\n",
    "\t\t\t\traise ValueError(\"n_samples must be a power of 2\")\n",
    "\t\tprior_min = [x[0] for x in params_dict.values()]\n",
    "\t\tprior_max = [x[1] for x in params_dict.values()]\n",
    "\t\td = len(prior_min)\n",
    "\t\tsampler = qmc.Sobol(d=d, scramble=False, seed = seed_start)\n",
    "\t\tsample = sampler.random_base2(m=int(np.log2(n_samples)))\n",
    "\t\tsample = qmc.scale(sample,prior_min, prior_max)\n",
    "                \n",
    "\t\treturn sample"
   ]
  },
  {
   "cell_type": "code",
   "execution_count": 9,
   "metadata": {},
   "outputs": [],
   "source": [
    "theta = generate_theta(256,1234)"
   ]
  },
  {
   "cell_type": "code",
   "execution_count": 10,
   "metadata": {},
   "outputs": [
    {
     "data": {
      "text/plain": [
       "array([[0.00000000e+00, 0.00000000e+00, 0.00000000e+00, ...,\n",
       "        0.00000000e+00, 0.00000000e+00, 0.00000000e+00],\n",
       "       [4.00000000e-09, 1.00000000e-01, 3.00000000e-01, ...,\n",
       "        1.40000000e-06, 1.10000000e-04, 3.50000000e-04],\n",
       "       [6.00000000e-09, 5.00000000e-02, 1.50000000e-01, ...,\n",
       "        2.10000000e-06, 1.65000000e-04, 5.25000000e-04],\n",
       "       ...,\n",
       "       [6.03125000e-09, 1.49218750e-01, 3.11718750e-01, ...,\n",
       "        2.59218750e-06, 1.52109375e-04, 4.23828125e-04],\n",
       "       [4.03125000e-09, 9.92187500e-02, 1.61718750e-01, ...,\n",
       "        1.89218750e-06, 2.07109375e-04, 5.98828125e-04],\n",
       "       [3.12500000e-11, 1.99218750e-01, 4.61718750e-01, ...,\n",
       "        4.92187500e-07, 9.71093750e-05, 2.48828125e-04]])"
      ]
     },
     "execution_count": 10,
     "metadata": {},
     "output_type": "execute_result"
    }
   ],
   "source": [
    "theta"
   ]
  },
  {
   "cell_type": "code",
   "execution_count": 11,
   "metadata": {},
   "outputs": [
    {
     "data": {
      "text/plain": [
       "(256, 10)"
      ]
     },
     "execution_count": 11,
     "metadata": {},
     "output_type": "execute_result"
    }
   ],
   "source": [
    "theta.shape"
   ]
  },
  {
   "cell_type": "code",
   "execution_count": 12,
   "metadata": {},
   "outputs": [],
   "source": [
    "np.save('../dl_data/theta.npy',theta)"
   ]
  },
  {
   "cell_type": "code",
   "execution_count": null,
   "metadata": {},
   "outputs": [],
   "source": []
  }
 ],
 "metadata": {
  "kernelspec": {
   "display_name": "physicell",
   "language": "python",
   "name": "python3"
  },
  "language_info": {
   "codemirror_mode": {
    "name": "ipython",
    "version": 3
   },
   "file_extension": ".py",
   "mimetype": "text/x-python",
   "name": "python",
   "nbconvert_exporter": "python",
   "pygments_lexer": "ipython3",
   "version": "3.13.0"
  }
 },
 "nbformat": 4,
 "nbformat_minor": 2
}
